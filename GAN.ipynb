{
 "cells": [
  {
   "cell_type": "markdown",
   "metadata": {},
   "source": [
    "### <center> <--*--*--*--* Labeled Faces in the Wild (LFW) --*--*--*--*>\n",
    "### This Notebook guides us on how to generate a face from noisy data, with the help of Generative adversarial Network (GAN)\n",
    "    \n",
    "        Steps to follow:\n",
    "        1. Build some network that generates the face(small images)\n",
    "        2. Make up a measure of how good that face is\n",
    "        3. Optimize with gradient descent\n",
    "        As two compare two images, we will delegate the task of generating image and comparing it with original image to discriminator.\n",
    "- > `Generator`- Takes random noise for inspiration and tries to generate a face sample. Let's call him G(z), where z is a gaussian noise.    \n",
    "- > `Discriminator`- Takes a face sample and tries to tell if it's great of fake \n",
    "    * Predicts the probability of input image being a real face\n",
    "    * Let's call him D(x), x being an image\n",
    "    * D(x) is a prediction for real image and D(G(z)) is prediction for the face made by generator."
   ]
  },
  {
   "cell_type": "code",
   "execution_count": 7,
   "metadata": {},
   "outputs": [],
   "source": [
    "import tqdm_utils"
   ]
  },
  {
   "cell_type": "code",
   "execution_count": 8,
   "metadata": {},
   "outputs": [
    {
     "data": {
      "application/vnd.jupyter.widget-view+json": {
       "model_id": "6e5a489cd6834db7bd907e0ce5e58873",
       "version_major": 2,
       "version_minor": 0
      },
      "text/plain": [
       "HBox(children=(IntProgress(value=0, max=13233), HTML(value='')))"
      ]
     },
     "metadata": {},
     "output_type": "display_data"
    },
    {
     "name": "stdout",
     "output_type": "stream",
     "text": [
      "\n"
     ]
    }
   ],
   "source": [
    "import matplotlib.pyplot as plt\n",
    "%matplotlib inline\n",
    "import numpy as np\n",
    "plt.rcParams.update({'axes.titlesize': 'small'})\n",
    "\n",
    "from sklearn.datasets import load_digits\n",
    "#The following line fetches you two datasets: images, usable for autoencoder training and attributes.\n",
    "#Those attributes will be required for the final part of the assignment (applying smiles), so please keep them in mind\n",
    "from lfw_dataset import load_lfw_dataset\n",
    "data,attrs = load_lfw_dataset(dimx=36,dimy=36)\n",
    "\n",
    "#preprocess faces\n",
    "data = np.float32(data)/255.\n",
    "\n",
    "IMG_SHAPE = data.shape[1:]"
   ]
  },
  {
   "cell_type": "code",
   "execution_count": 9,
   "metadata": {},
   "outputs": [
    {
     "data": {
      "text/html": [
       "<div>\n",
       "<style scoped>\n",
       "    .dataframe tbody tr th:only-of-type {\n",
       "        vertical-align: middle;\n",
       "    }\n",
       "\n",
       "    .dataframe tbody tr th {\n",
       "        vertical-align: top;\n",
       "    }\n",
       "\n",
       "    .dataframe thead th {\n",
       "        text-align: right;\n",
       "    }\n",
       "</style>\n",
       "<table border=\"1\" class=\"dataframe\">\n",
       "  <thead>\n",
       "    <tr style=\"text-align: right;\">\n",
       "      <th></th>\n",
       "      <th>Male</th>\n",
       "      <th>Asian</th>\n",
       "      <th>White</th>\n",
       "      <th>Black</th>\n",
       "      <th>Baby</th>\n",
       "      <th>Child</th>\n",
       "      <th>Youth</th>\n",
       "      <th>Middle Aged</th>\n",
       "      <th>Senior</th>\n",
       "      <th>Black Hair</th>\n",
       "      <th>...</th>\n",
       "      <th>Pale Skin</th>\n",
       "      <th>5 o' Clock Shadow</th>\n",
       "      <th>Strong Nose-Mouth Lines</th>\n",
       "      <th>Wearing Lipstick</th>\n",
       "      <th>Flushed Face</th>\n",
       "      <th>High Cheekbones</th>\n",
       "      <th>Brown Eyes</th>\n",
       "      <th>Wearing Earrings</th>\n",
       "      <th>Wearing Necktie</th>\n",
       "      <th>Wearing Necklace</th>\n",
       "    </tr>\n",
       "  </thead>\n",
       "  <tbody>\n",
       "    <tr>\n",
       "      <th>0</th>\n",
       "      <td>-2.104314</td>\n",
       "      <td>-2.049644</td>\n",
       "      <td>1.591600</td>\n",
       "      <td>-1.045685</td>\n",
       "      <td>-2.232376</td>\n",
       "      <td>-0.911712</td>\n",
       "      <td>0.613642</td>\n",
       "      <td>-0.781887</td>\n",
       "      <td>-0.469519</td>\n",
       "      <td>-2.134022</td>\n",
       "      <td>...</td>\n",
       "      <td>0.355319</td>\n",
       "      <td>-2.124374</td>\n",
       "      <td>0.262077</td>\n",
       "      <td>1.002586</td>\n",
       "      <td>-2.470392</td>\n",
       "      <td>0.393498</td>\n",
       "      <td>0.504409</td>\n",
       "      <td>0.256225</td>\n",
       "      <td>-0.676691</td>\n",
       "      <td>0.651946</td>\n",
       "    </tr>\n",
       "    <tr>\n",
       "      <th>1</th>\n",
       "      <td>0.061314</td>\n",
       "      <td>-1.203843</td>\n",
       "      <td>0.190530</td>\n",
       "      <td>-1.449693</td>\n",
       "      <td>-2.193837</td>\n",
       "      <td>-0.707221</td>\n",
       "      <td>0.424077</td>\n",
       "      <td>-0.337895</td>\n",
       "      <td>-1.590642</td>\n",
       "      <td>0.203110</td>\n",
       "      <td>...</td>\n",
       "      <td>-0.645629</td>\n",
       "      <td>-0.689628</td>\n",
       "      <td>0.265309</td>\n",
       "      <td>-0.384761</td>\n",
       "      <td>0.291451</td>\n",
       "      <td>0.738267</td>\n",
       "      <td>0.841001</td>\n",
       "      <td>-0.060254</td>\n",
       "      <td>-0.637451</td>\n",
       "      <td>0.209275</td>\n",
       "    </tr>\n",
       "    <tr>\n",
       "      <th>2</th>\n",
       "      <td>1.568346</td>\n",
       "      <td>-1.889043</td>\n",
       "      <td>1.737203</td>\n",
       "      <td>-0.929729</td>\n",
       "      <td>-1.471799</td>\n",
       "      <td>-0.195580</td>\n",
       "      <td>-0.835609</td>\n",
       "      <td>-0.351468</td>\n",
       "      <td>-1.012533</td>\n",
       "      <td>-0.719593</td>\n",
       "      <td>...</td>\n",
       "      <td>0.361738</td>\n",
       "      <td>1.166118</td>\n",
       "      <td>-1.164916</td>\n",
       "      <td>-1.139990</td>\n",
       "      <td>-2.371746</td>\n",
       "      <td>-1.299932</td>\n",
       "      <td>-0.414682</td>\n",
       "      <td>-1.144902</td>\n",
       "      <td>0.694007</td>\n",
       "      <td>-0.826609</td>\n",
       "    </tr>\n",
       "  </tbody>\n",
       "</table>\n",
       "<p>3 rows × 73 columns</p>\n",
       "</div>"
      ],
      "text/plain": [
       "       Male     Asian     White     Black      Baby     Child     Youth  \\\n",
       "0 -2.104314 -2.049644  1.591600 -1.045685 -2.232376 -0.911712  0.613642   \n",
       "1  0.061314 -1.203843  0.190530 -1.449693 -2.193837 -0.707221  0.424077   \n",
       "2  1.568346 -1.889043  1.737203 -0.929729 -1.471799 -0.195580 -0.835609   \n",
       "\n",
       "   Middle Aged    Senior  Black Hair  ...  Pale Skin  5 o' Clock Shadow  \\\n",
       "0    -0.781887 -0.469519   -2.134022  ...   0.355319          -2.124374   \n",
       "1    -0.337895 -1.590642    0.203110  ...  -0.645629          -0.689628   \n",
       "2    -0.351468 -1.012533   -0.719593  ...   0.361738           1.166118   \n",
       "\n",
       "   Strong Nose-Mouth Lines  Wearing Lipstick  Flushed Face  High Cheekbones  \\\n",
       "0                 0.262077          1.002586     -2.470392         0.393498   \n",
       "1                 0.265309         -0.384761      0.291451         0.738267   \n",
       "2                -1.164916         -1.139990     -2.371746        -1.299932   \n",
       "\n",
       "   Brown Eyes  Wearing Earrings  Wearing Necktie  Wearing Necklace  \n",
       "0    0.504409          0.256225        -0.676691          0.651946  \n",
       "1    0.841001         -0.060254        -0.637451          0.209275  \n",
       "2   -0.414682         -1.144902         0.694007         -0.826609  \n",
       "\n",
       "[3 rows x 73 columns]"
      ]
     },
     "execution_count": 9,
     "metadata": {},
     "output_type": "execute_result"
    }
   ],
   "source": [
    "attrs.head(3)"
   ]
  },
  {
   "cell_type": "code",
   "execution_count": 10,
   "metadata": {},
   "outputs": [
    {
     "data": {
      "text/plain": [
       "((13143, 73), (13143, 36, 36, 3))"
      ]
     },
     "execution_count": 10,
     "metadata": {},
     "output_type": "execute_result"
    }
   ],
   "source": [
    "attrs.shape, data.shape"
   ]
  },
  {
   "cell_type": "code",
   "execution_count": 11,
   "metadata": {
    "scrolled": true
   },
   "outputs": [
    {
     "data": {
      "text/plain": [
       "<matplotlib.image.AxesImage at 0x1a4e6a4710>"
      ]
     },
     "execution_count": 11,
     "metadata": {},
     "output_type": "execute_result"
    },
    {
     "data": {
      "image/png": "[encoded data removed]",
      "text/plain": [
       "<Figure size 432x288 with 1 Axes>"
      ]
     },
     "metadata": {
      "needs_background": "light"
     },
     "output_type": "display_data"
    }
   ],
   "source": [
    "plt.imshow(data[np.random.randint(data.shape[0])], cmap='gray')"
   ]
  },
  {
   "cell_type": "code",
   "execution_count": 12,
   "metadata": {},
   "outputs": [],
   "source": [
    "# Keras Utils\n",
    "from collections import defaultdict\n",
    "import numpy as np\n",
    "from keras.models import save_model\n",
    "import tensorflow as tf\n",
    "import keras\n",
    "from keras import backend as K\n",
    "import tqdm_utils\n",
    "\n",
    "\n",
    "class TqdmProgressCallback(keras.callbacks.Callback):\n",
    "\n",
    "    def on_train_begin(self, logs=None):\n",
    "        self.epochs = self.params['epochs']\n",
    "\n",
    "    def on_epoch_begin(self, epoch, logs=None):\n",
    "        print('\\nEpoch %d/%d' % (epoch + 1, self.epochs))\n",
    "        if \"steps\" in self.params:\n",
    "            self.use_steps = True\n",
    "            self.target = self.params['steps']\n",
    "        else:\n",
    "            self.use_steps = False\n",
    "            self.target = self.params['samples']\n",
    "        self.prog_bar = tqdm_utils.tqdm_notebook_failsafe(total=self.target)\n",
    "        self.log_values_by_metric = defaultdict(list)\n",
    "\n",
    "    def _set_prog_bar_desc(self, logs):\n",
    "        for k in self.params['metrics']:\n",
    "            if k in logs:\n",
    "                self.log_values_by_metric[k].append(logs[k])\n",
    "        desc = \"; \".join(\"{0}: {1:.4f}\".format(k, np.mean(values)) for k, values in self.log_values_by_metric.items())\n",
    "        if hasattr(self.prog_bar, \"set_description_str\"):  # for new tqdm versions\n",
    "            self.prog_bar.set_description_str(desc)\n",
    "        else:\n",
    "            self.prog_bar.set_description(desc)\n",
    "\n",
    "    def on_batch_end(self, batch, logs=None):\n",
    "        logs = logs or {}\n",
    "        if self.use_steps:\n",
    "            self.prog_bar.update(1)\n",
    "        else:\n",
    "            batch_size = logs.get('size', 0)\n",
    "            self.prog_bar.update(batch_size)\n",
    "        self._set_prog_bar_desc(logs)\n",
    "\n",
    "    def on_epoch_end(self, epoch, logs=None):\n",
    "        logs = logs or {}\n",
    "        self._set_prog_bar_desc(logs)\n",
    "        self.prog_bar.update(1)  # workaround to show description\n",
    "        self.prog_bar.close()\n",
    "\n",
    "\n",
    "class ModelSaveCallback(keras.callbacks.Callback):\n",
    "\n",
    "    def __init__(self, file_name):\n",
    "        super(ModelSaveCallback, self).__init__()\n",
    "        self.file_name = file_name\n",
    "\n",
    "    def on_epoch_end(self, epoch, logs=None):\n",
    "        model_filename = self.file_name.format(epoch)\n",
    "        save_model(self.model, model_filename)\n",
    "        print(\"Model saved in {}\".format(model_filename))\n",
    "\n",
    "\n",
    "# !!! remember to clear session/graph if you rebuild your graph to avoid out-of-memory errors !!!\n",
    "def reset_tf_session():\n",
    "    curr_session = tf.get_default_session()\n",
    "    # close current session\n",
    "    if curr_session is not None:\n",
    "        curr_session.close()\n",
    "    # reset graph\n",
    "    K.clear_session()\n",
    "    # create new session\n",
    "    config = tf.ConfigProto()\n",
    "    config.gpu_options.allow_growth = True\n",
    "    s = tf.InteractiveSession(config=config)\n",
    "    K.set_session(s)\n",
    "    return s\n",
    "\n"
   ]
  },
  {
   "cell_type": "code",
   "execution_count": 13,
   "metadata": {},
   "outputs": [],
   "source": [
    "import tensorflow as tf\n",
    "s = reset_tf_session()\n",
    "\n",
    "import keras\n",
    "from keras.models import Sequential\n",
    "from keras import layers as L"
   ]
  },
  {
   "cell_type": "code",
   "execution_count": 14,
   "metadata": {},
   "outputs": [],
   "source": [
    "CODE_SIZE = 256\n",
    "\n",
    "generator = Sequential()\n",
    "generator.add(L.InputLayer([CODE_SIZE],name='noise'))\n",
    "generator.add(L.Dense(10*8*8, activation='elu'))\n",
    "\n",
    "generator.add(L.Reshape((8,8,10)))\n",
    "generator.add(L.Deconv2D(64,kernel_size=(5,5),activation='elu'))\n",
    "generator.add(L.Deconv2D(64,kernel_size=(5,5),activation='elu'))\n",
    "generator.add(L.UpSampling2D(size=(2,2)))\n",
    "generator.add(L.Deconv2D(32,kernel_size=3,activation='elu'))\n",
    "generator.add(L.Deconv2D(32,kernel_size=3,activation='elu'))\n",
    "generator.add(L.Deconv2D(32,kernel_size=3,activation='elu'))\n",
    "\n",
    "generator.add(L.Conv2D(3,kernel_size=3,activation=None))\n",
    "\n"
   ]
  },
  {
   "cell_type": "code",
   "execution_count": 15,
   "metadata": {},
   "outputs": [],
   "source": [
    "assert generator.output_shape[1:] == IMG_SHAPE, \"generator must output an image of shape %s, but instead it produces %s\"%(IMG_SHAPE,generator.output_shape[1:])"
   ]
  },
  {
   "cell_type": "markdown",
   "metadata": {},
   "source": [
    "### Discriminator\n",
    "* Discriminator is your usual convolutional network with interlooping convolution and pooling layers\n",
    "* The network does not include dropout/batchnorm to avoid learning complications.\n",
    "* We also regularize the pre-output layer to prevent discriminator from being too certain."
   ]
  },
  {
   "cell_type": "code",
   "execution_count": 16,
   "metadata": {},
   "outputs": [
    {
     "name": "stderr",
     "output_type": "stream",
     "text": [
      "W0810 17:19:03.131166 4665161152 deprecation_wrapper.py:119] From /anaconda3/lib/python3.6/site-packages/keras/backend/tensorflow_backend.py:3976: The name tf.nn.max_pool is deprecated. Please use tf.nn.max_pool2d instead.\n",
      "\n"
     ]
    }
   ],
   "source": [
    "discriminator = Sequential()\n",
    "\n",
    "discriminator.add(L.InputLayer(IMG_SHAPE))\n",
    "\n",
    "#<build discriminator body>\n",
    "discriminator.add(L.Conv2D(16,[2,2],padding='same',activation='tanh'))\n",
    "discriminator.add(L.Conv2D(32,[2,2],padding='same',activation='tanh'))\n",
    "discriminator.add(L.MaxPool2D())\n",
    "\n",
    "discriminator.add(L.Conv2D(64,[2,2],padding='same',activation='tanh'))\n",
    "discriminator.add(L.Conv2D(128,[2,2],padding='same',activation='tanh'))\n",
    "discriminator.add(L.MaxPool2D())\n",
    "\n",
    "\n",
    "discriminator.add(L.Flatten())\n",
    "discriminator.add(L.Dense(256,activation='tanh'))\n",
    "discriminator.add(L.Dense(2,activation=tf.nn.log_softmax))"
   ]
  },
  {
   "cell_type": "markdown",
   "metadata": {},
   "source": [
    "\n",
    "### Tricks:\n",
    "* Regularize discriminator output weights to prevent explosion\n",
    "* Train generator with __adam__ to speed up training. Discriminator trains with SGD to avoid problems with momentum.\n",
    "* More: https://github.com/soumith/ganhacks\n",
    "\n"
   ]
  },
  {
   "cell_type": "code",
   "execution_count": 17,
   "metadata": {},
   "outputs": [],
   "source": [
    "noise = tf.placeholder('float32',[None,CODE_SIZE])\n",
    "real_data = tf.placeholder('float32',[None,]+list(IMG_SHAPE))\n",
    "\n",
    "logp_real = discriminator(real_data)\n",
    "\n",
    "generated_data = generator(noise)\n",
    "\n",
    "logp_gen = discriminator(generated_data)\n",
    "\n"
   ]
  },
  {
   "cell_type": "code",
   "execution_count": 18,
   "metadata": {},
   "outputs": [
    {
     "name": "stderr",
     "output_type": "stream",
     "text": [
      "W0810 17:19:45.908795 4665161152 deprecation.py:323] From /anaconda3/lib/python3.6/site-packages/tensorflow/python/ops/math_grad.py:1205: add_dispatch_support.<locals>.wrapper (from tensorflow.python.ops.array_ops) is deprecated and will be removed in a future version.\n",
      "Instructions for updating:\n",
      "Use tf.where in 2.0, which has the same broadcast rule as np.where\n"
     ]
    }
   ],
   "source": [
    "########################\n",
    "#discriminator training#\n",
    "########################\n",
    "\n",
    "d_loss = -tf.reduce_mean(logp_real[:,1] + logp_gen[:,0])\n",
    "\n",
    "#regularize\n",
    "d_loss += tf.reduce_mean(discriminator.layers[-1].kernel**2)\n",
    "\n",
    "#optimize\n",
    "disc_optimizer =  tf.train.GradientDescentOptimizer(1e-3).minimize(d_loss,var_list=discriminator.trainable_weights)"
   ]
  },
  {
   "cell_type": "code",
   "execution_count": 19,
   "metadata": {},
   "outputs": [],
   "source": [
    "########################\n",
    "###generator training###\n",
    "########################\n",
    "\n",
    "g_loss = -tf.log(1-logp_gen)\n",
    "\n",
    "gen_optimizer = tf.train.AdamOptimizer(1e-4).minimize(g_loss,var_list=generator.trainable_weights)\n",
    "\n",
    "    "
   ]
  },
  {
   "cell_type": "code",
   "execution_count": 20,
   "metadata": {},
   "outputs": [],
   "source": [
    "s.run(tf.global_variables_initializer())"
   ]
  },
  {
   "cell_type": "code",
   "execution_count": 21,
   "metadata": {},
   "outputs": [],
   "source": [
    "def sample_noise_batch(bsize):\n",
    "    return np.random.normal(size=(bsize, CODE_SIZE)).astype('float32')\n",
    "\n",
    "def sample_data_batch(bsize):\n",
    "    idxs = np.random.choice(np.arange(data.shape[0]), size=bsize)\n",
    "    return data[idxs]\n",
    "\n",
    "def sample_images(nrow,ncol, sharp=False):\n",
    "    images = generator.predict(sample_noise_batch(bsize=nrow*ncol))\n",
    "    if np.var(images)!=0:\n",
    "        images = images.clip(np.min(data),np.max(data))\n",
    "    for i in range(nrow*ncol):\n",
    "        plt.subplot(nrow,ncol,i+1)\n",
    "        if sharp:\n",
    "            plt.imshow(images[i].reshape(IMG_SHAPE),cmap=\"gray\", interpolation=\"none\")\n",
    "        else:\n",
    "            plt.imshow(images[i].reshape(IMG_SHAPE),cmap=\"gray\")\n",
    "    plt.show()\n",
    "\n",
    "def sample_probas(bsize):\n",
    "    plt.title('Generated vs real data')\n",
    "    plt.hist(np.exp(discriminator.predict(sample_data_batch(bsize)))[:,1],\n",
    "             label='D(x)', alpha=0.5,range=[0,1])\n",
    "    plt.hist(np.exp(discriminator.predict(generator.predict(sample_noise_batch(bsize))))[:,1],\n",
    "             label='D(G(z))',alpha=0.5,range=[0,1])\n",
    "    plt.legend(loc='best')\n",
    "    plt.show()"
   ]
  },
  {
   "cell_type": "markdown",
   "metadata": {},
   "source": [
    "### Training\n",
    "Main loop.\n",
    "We just train generator and discriminator in a loop and plot results once every N iterations."
   ]
  },
  {
   "cell_type": "code",
   "execution_count": null,
   "metadata": {},
   "outputs": [
    {
     "data": {
      "image/png": "[encoded data removed]",
      "text/plain": [
       "<Figure size 432x288 with 6 Axes>"
      ]
     },
     "metadata": {
      "needs_background": "light"
     },
     "output_type": "display_data"
    },
    {
     "data": {
      "image/png": "[encoded data removed]",
      "text/plain": [
       "<Figure size 432x288 with 1 Axes>"
      ]
     },
     "metadata": {
      "needs_background": "light"
     },
     "output_type": "display_data"
    },
    {
     "name": "stdout",
     "output_type": "stream",
     "text": [
      "1\n",
      "2\n",
      "3\n",
      "4\n",
      "5\n",
      "6\n",
      "7\n",
      "8\n",
      "9\n",
      "10\n",
      "11\n",
      "12\n",
      "13\n",
      "14\n",
      "15\n",
      "16\n",
      "17\n",
      "18\n",
      "19\n",
      "20\n",
      "21\n",
      "22\n",
      "23\n",
      "24\n",
      "25\n",
      "26\n",
      "27\n",
      "28\n"
     ]
    }
   ],
   "source": [
    "from IPython import display\n",
    "\n",
    "for epoch in tqdm_utils.tqdm_notebook_failsafe(range(50000)):\n",
    "    \n",
    "    feed_dict = {\n",
    "        real_data:sample_data_batch(100),\n",
    "        noise:sample_noise_batch(100)\n",
    "    }\n",
    "    \n",
    "    for i in range(5):\n",
    "        s.run(disc_optimizer,feed_dict)\n",
    "    \n",
    "    s.run(gen_optimizer,feed_dict)\n",
    "    print(epoch, )\n",
    "    if epoch %100==0:\n",
    "        display.clear_output(wait=True)\n",
    "        sample_images(2,3,True)\n",
    "        sample_probas(1000)\n",
    "# It will take 2-3 days in CPU for epoch 15k, to generate good images."
   ]
  },
  {
   "cell_type": "code",
   "execution_count": null,
   "metadata": {},
   "outputs": [],
   "source": []
  }
 ],
 "metadata": {
  "kernelspec": {
   "display_name": "Python 3",
   "language": "python",
   "name": "python3"
  },
  "language_info": {
   "codemirror_mode": {
    "name": "ipython",
    "version": 3
   },
   "file_extension": ".py",
   "mimetype": "text/x-python",
   "name": "python",
   "nbconvert_exporter": "python",
   "pygments_lexer": "ipython3",
   "version": "3.6.8"
  }
 },
 "nbformat": 4,
 "nbformat_minor": 2
}
